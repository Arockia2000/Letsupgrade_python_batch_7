{
 "cells": [
  {
   "cell_type": "code",
   "execution_count": 8,
   "metadata": {},
   "outputs": [
    {
     "name": "stdout",
     "output_type": "stream",
     "text": [
      "Error in ur program is: not writable\n",
      "File successfully written\n"
     ]
    }
   ],
   "source": [
    "file = open(\"test.txt\",\"r\")\n",
    "try:\n",
    "    file.write(\"hello LetsUpgrade\")\n",
    "except Exception as string:\n",
    "    print(\"Error in ur program is:\",string)\n",
    "finally:\n",
    "    print(\"File successfully written\")\n",
    "    "
   ]
  },
  {
   "cell_type": "code",
   "execution_count": 9,
   "metadata": {},
   "outputs": [
    {
     "name": "stdout",
     "output_type": "stream",
     "text": [
      "Enter the number : 20\n",
      "0 1 1 2 3 5 8 13 21 34 55 89 144 233 377 610 987 1597 2584 4181 "
     ]
    }
   ],
   "source": [
    "def fibformula(num1):\n",
    "    A = 0\n",
    "    B = 1\n",
    "    C = 0 \n",
    "    print(A,end=\" \")\n",
    "    print(B,end=\" \")\n",
    "    for i in range(num1-2):\n",
    "        C = A + B\n",
    "        A = B\n",
    "        B = C\n",
    "        print(C,end=\" \")\n",
    "def inputCode(arg):\n",
    "    def inputs():\n",
    "        num1 = int(input(\"Enter the number : \"))\n",
    "        arg(num1)\n",
    "    return inputs\n",
    "atlas = inputCode(fibformula)\n",
    "atlas()"
   ]
  }
 ],
 "metadata": {
  "kernelspec": {
   "display_name": "Python 3",
   "language": "python",
   "name": "python3"
  },
  "language_info": {
   "codemirror_mode": {
    "name": "ipython",
    "version": 3
   },
   "file_extension": ".py",
   "mimetype": "text/x-python",
   "name": "python",
   "nbconvert_exporter": "python",
   "pygments_lexer": "ipython3",
   "version": "3.8.1"
  }
 },
 "nbformat": 4,
 "nbformat_minor": 4
}
