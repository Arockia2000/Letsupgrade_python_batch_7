{
 "cells": [
  {
   "cell_type": "code",
   "execution_count": 7,
   "metadata": {},
   "outputs": [
    {
     "name": "stdout",
     "output_type": "stream",
     "text": [
      "available balance: 11000\n",
      "available balance 6000\n"
     ]
    }
   ],
   "source": [
    "class bankaccount():\n",
    "    def __init__(self,name,balance):\n",
    "        self.name=name\n",
    "        self.balance=balance\n",
    "    def deposit (self,amount):\n",
    "        self.balance+=amount\n",
    "        print(\"available balance:\",self.balance)\n",
    "    def withdrawl(self,required):\n",
    "        if (self.balance>required):\n",
    "            print(\"available balance\",self.balance-required)\n",
    "        else:\n",
    "            print(\"money overdrawn\")\n",
    "c=bankaccount(\"arockia\",10000)\n",
    "c.deposit(1000)\n",
    "c.withdrawl(5000)"
   ]
  }
 ],
 "metadata": {
  "kernelspec": {
   "display_name": "Python 3",
   "language": "python",
   "name": "python3"
  },
  "language_info": {
   "codemirror_mode": {
    "name": "ipython",
    "version": 3
   },
   "file_extension": ".py",
   "mimetype": "text/x-python",
   "name": "python",
   "nbconvert_exporter": "python",
   "pygments_lexer": "ipython3",
   "version": "3.8.1"
  }
 },
 "nbformat": 4,
 "nbformat_minor": 4
}
